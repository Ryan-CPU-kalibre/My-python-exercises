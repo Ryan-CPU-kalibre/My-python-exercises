{
 "cells": [
  {
   "cell_type": "code",
   "execution_count": 2,
   "id": "88c5e382-d3a5-4aa1-b072-0359cb4f8df5",
   "metadata": {},
   "outputs": [
    {
     "name": "stdout",
     "output_type": "stream",
     "text": [
      "First repeating letter in 'abcdefghija': a\n",
      "First repeating letter in 'hello': l\n",
      "First repeating letter in 'python': None\n",
      "First repeating letter in 'programming': r\n",
      "First repeating letter in 'abcde': None\n",
      "First repeating letter in 'mustard bastard': a\n"
     ]
    }
   ],
   "source": [
    "#Encontrar la primera letra que se repite \n",
    "\n",
    "def first_repeating_letter(input_string):\n",
    "    # Create a set to track seen characters\n",
    "    seen_chars = set()\n",
    "    \n",
    "    # Iterate through each character in the string\n",
    "    for char in input_string:\n",
    "        # Only consider letters\n",
    "        if char.isalpha():\n",
    "            # If we've seen this character before, it's the first repeating letter\n",
    "            if char in seen_chars:\n",
    "                return char\n",
    "            # Otherwise, add it to our set of seen characters\n",
    "            else:\n",
    "                seen_chars.add(char)\n",
    "    \n",
    "    # If we get here, no letter repeats\n",
    "    return None\n",
    "\n",
    "# Example usage\n",
    "test_string = \"abcdefghija\"\n",
    "result = first_repeating_letter(test_string)\n",
    "print(f\"First repeating letter in '{test_string}': {result}\")\n",
    "\n",
    "# More examples\n",
    "examples = [\"hello\", \"python\", \"programming\", \"abcde\",\"mustard bastard\"]\n",
    "for example in examples:\n",
    "    print(f\"First repeating letter in '{example}': {first_repeating_letter(example)}\")"
   ]
  },
  {
   "cell_type": "code",
   "execution_count": 7,
   "id": "6d06307f-caac-4861-a557-495227bc170e",
   "metadata": {},
   "outputs": [
    {
     "name": "stdout",
     "output_type": "stream",
     "text": [
      "La primera repetida de la palabra hola es: None\n",
      "La primera repetida de el texto hola bastardo es: a\n"
     ]
    }
   ],
   "source": [
    "#otra manera de implementar como encontrar la primera letra que se repite menos complejo\n",
    "\n",
    "def primera_letra_repite(texto):\n",
    "    texto_minuscula = texto.lower()\n",
    "    texto_sin_espacios = texto_minuscula.replace(\" \", \"\")\n",
    "    lista_letras = []\n",
    "    for letra in texto_sin_espacios:\n",
    "        if letra in lista_letras:\n",
    "            return letra\n",
    "        else:\n",
    "            lista_letras.append(letra)\n",
    "    return None\n",
    "\n",
    "print(f\"La primera repetida de la palabra hola es: {primera_letra_repite(\"hola\")}\")\n",
    "print(f\"La primera repetida de el texto hola bastardo es: {primera_letra_repite(\"hola bastardo\")}\")\n",
    "\n"
   ]
  },
  {
   "cell_type": "code",
   "execution_count": null,
   "id": "bb4e8379-9482-4559-9d93-cd4ba2a172f6",
   "metadata": {},
   "outputs": [],
   "source": [
    "#Siguiente"
   ]
  },
  {
   "cell_type": "code",
   "execution_count": 16,
   "id": "e9f5ca87-21e0-4688-afd7-b0fcaba1f7e0",
   "metadata": {},
   "outputs": [
    {
     "name": "stdout",
     "output_type": "stream",
     "text": [
      "La hora 1:00 PM en formato 24 horas es 13:00\n"
     ]
    }
   ],
   "source": [
    "#Convertir hora de formato 12 a 24\n",
    "\n",
    "from datetime import datetime\n",
    "\n",
    "def convertir_12_a_24(hora_12):\n",
    "\n",
    "    try:\n",
    "        # Parsear la cadena de entrada con formato %I:%M %p (I para hora en 12 horas, M para minutos, p para AM/PM)\n",
    "        hora_datetime = datetime.strptime(hora_12, \"%I:%M %p\")\n",
    "        \n",
    "        # Formatear el resultado con formato %H:%M (H para hora en 24 horas, M para minutos)\n",
    "        hora_24 = hora_datetime.strftime(\"%H:%M\")\n",
    "        return hora_24\n",
    "    except ValueError:\n",
    "        return None  # o un error más explícito\n",
    "\n",
    "# Ejemplo de uso:\n",
    "hora_12_ejemplo = \"1:00 PM\"\n",
    "hora_24_resultado = convertir_12_a_24(hora_12_ejemplo)\n",
    "\n",
    "if hora_24_resultado:\n",
    "    print(f\"La hora {hora_12_ejemplo} en formato 24 horas es {hora_24_resultado}\")\n",
    "else:\n",
    "    print(\"Error: La entrada no es válida.\")\n",
    "    "
   ]
  },
  {
   "cell_type": "code",
   "execution_count": null,
   "id": "3a93cace-7f6f-4e21-87e9-a631711fe08f",
   "metadata": {},
   "outputs": [],
   "source": [
    "#Otra manera de implementarlo Convertir hora de formato 12 a 24"
   ]
  },
  {
   "cell_type": "code",
   "execution_count": 18,
   "id": "d763e520-f7ab-4861-ad31-c213a0c6b64d",
   "metadata": {},
   "outputs": [
    {
     "name": "stdout",
     "output_type": "stream",
     "text": [
      "00:40\n",
      "12:40\n",
      "15:10\n",
      "5:30\n"
     ]
    }
   ],
   "source": [
    "#Convertir hora de formato 12 a 24\n",
    "\n",
    "def convertir_horario(hora):\n",
    "    hora_lista = hora.split(\":\") \n",
    "    if hora[-2:].lower() == \"pm\": #revisa si pm se encuentra en la ultima posicion\n",
    "        if hora_lista[0] != \"12\": \n",
    "            hora_lista[0] = str(int(hora_lista[0]) +12) # convierte a int, suma 12 y convierte a str de nuevo\n",
    "    \n",
    "    #Revisa si la hora es 12 y le pone en 00\n",
    "    else:\n",
    "        if hora_lista[0] == \"12\":\n",
    "            hora_lista[0] = \"00\"\n",
    "    hora_convertida = \":\".join(hora_lista) # une los elementos de la lista usando : como separador\n",
    "    return hora_convertida[:-2]\n",
    "\n",
    "print(convertir_horario(\"12:40AM\"))\n",
    "print(convertir_horario(\"12:40pm\"))\n",
    "print(convertir_horario(\"3:10pM\"))\n",
    "print(convertir_horario(\"5:30AM\"))"
   ]
  },
  {
   "cell_type": "code",
   "execution_count": null,
   "id": "8a99aff1-8a0e-4586-8bf2-aba61f0b6671",
   "metadata": {},
   "outputs": [],
   "source": [
    "#Siguiente"
   ]
  },
  {
   "cell_type": "code",
   "execution_count": 23,
   "id": "728719b4-7acb-444b-b2c9-76827608d494",
   "metadata": {},
   "outputs": [
    {
     "name": "stdout",
     "output_type": "stream",
     "text": [
      "True\n",
      "False\n",
      "True\n"
     ]
    }
   ],
   "source": [
    "#Funcion que determine si dos palabras son anagramas\n",
    "#return true si lo son y false si no\n",
    "\n",
    "def son_anagramas(palabra, palabra2):\n",
    "    palabra_minuscula = palabra.lower()\n",
    "    palabra_a_lista_ordenada = sorted(palabra_minuscula)\n",
    "    lista_a_palabra = \"\".join(palabra_a_lista_ordenada)\n",
    "\n",
    "    #Palabra2\n",
    "    palabra_minuscula2 = palabra2.lower()\n",
    "    palabra_a_lista_ordenada2 = sorted(palabra_minuscula2)\n",
    "    lista_a_palabra2 = \"\".join(palabra_a_lista_ordenada2)\n",
    "\n",
    "    if lista_a_palabra == lista_a_palabra2:\n",
    "        return True\n",
    "    else:\n",
    "        return False\n",
    "        \n",
    "\n",
    "    \n",
    "palabra = \"Mora\"\n",
    "palabra2 = \"RAMO\"\n",
    "palabra3 = \"saco\"\n",
    "palabra4 = \"CASO\"\n",
    "\n",
    "print(son_anagramas(palabra, palabra2))\n",
    "print(son_anagramas(palabra, palabra3))\n",
    "print(son_anagramas(palabra3, palabra4))"
   ]
  },
  {
   "cell_type": "code",
   "execution_count": null,
   "id": "5145eecd-36a9-45b0-9836-adae5c2165d2",
   "metadata": {},
   "outputs": [],
   "source": [
    "#Siguiente"
   ]
  },
  {
   "cell_type": "code",
   "execution_count": 12,
   "id": "682821b5-6245-4c06-8a16-e1be1cb2453b",
   "metadata": {},
   "outputs": [
    {
     "name": "stdout",
     "output_type": "stream",
     "text": [
      "Hola-Mundo-123\n",
      "hola-mundo\n"
     ]
    }
   ],
   "source": [
    "#slugify \n",
    "#Convertir un texto a slug\n",
    "\n",
    "import re # modulo para trabajar expresiones regulares \n",
    "\n",
    "def slugify(texto):\n",
    "    texto_soloAlfaNumerico = re.sub(r'[^a-zA-Z0-9\\s]','',texto)#remplazar texto no alfanumerico por ''\n",
    "    slug = texto_soloAlfaNumerico.replace(\" \", \"-\")\n",
    "    return slug\n",
    "\n",
    "cadena = \"Hola, Mundo! 123\"\n",
    "cadena2 = \"hola mundo\"\n",
    "\n",
    "print(slugify(cadena))\n",
    "print(slugify(cadena2))\n",
    "    "
   ]
  },
  {
   "cell_type": "code",
   "execution_count": null,
   "id": "49220ac0-2ad6-4257-85a8-3a45c8e38c85",
   "metadata": {},
   "outputs": [],
   "source": [
    "#Siguiente"
   ]
  },
  {
   "cell_type": "code",
   "execution_count": 13,
   "id": "88dd1de0-b3ea-470b-968d-a7079e062015",
   "metadata": {},
   "outputs": [
    {
     "name": "stdout",
     "output_type": "stream",
     "text": [
      "['APPLE', 'BANANA', 'GRAPE', 'ORANGE']\n"
     ]
    }
   ],
   "source": [
    "#devolver palabras en orden alfabetico\n",
    "\n",
    "words = \"banana,apple,grape,orange\"\n",
    "separadas = words.split(\",\")\n",
    "ordenadas = sorted(w2)\n",
    "\n",
    "#A mayuscula\n",
    "mayusculas = []\n",
    "\n",
    "for w in ordenadas:\n",
    "    palabra_mayuscula = w.upper()\n",
    "    mayusculas.append(palabra_mayuscula)\n",
    "\n",
    "print(mayusculas)\n",
    "    "
   ]
  },
  {
   "cell_type": "code",
   "execution_count": null,
   "id": "c9f1860a-68b9-40c8-bb59-eec3f19b0101",
   "metadata": {},
   "outputs": [],
   "source": [
    "#Siguiente"
   ]
  },
  {
   "cell_type": "code",
   "execution_count": 17,
   "id": "ca9fb64a-e0b1-4c32-a2d1-147771d1a3fc",
   "metadata": {},
   "outputs": [
    {
     "name": "stdout",
     "output_type": "stream",
     "text": [
      "{'apple', 'cat', 'banana', 'dog'}\n"
     ]
    }
   ],
   "source": [
    "#Secuencia de palabras separadas por un espacio ordenar alfabeticamente y eliminar duplicados\n",
    "\n",
    "words = \"dog cat apple cat banana dog\"\n",
    "\n",
    "separadas = words.split(\" \")\n",
    "ordenadas = sorted(separadas)\n",
    "lista_final = set(ordenadas)\n",
    "\n",
    "print(lista_final)"
   ]
  },
  {
   "cell_type": "code",
   "execution_count": null,
   "id": "c455a4a9-908b-400d-8372-7b83a464633b",
   "metadata": {},
   "outputs": [],
   "source": [
    "#Siguiente\n"
   ]
  },
  {
   "cell_type": "code",
   "execution_count": 18,
   "id": "d6f5e802-8dce-4630-9a38-c7ce95322ec8",
   "metadata": {},
   "outputs": [
    {
     "data": {
      "text/plain": [
       "'1010,1111'"
      ]
     },
     "execution_count": 18,
     "metadata": {},
     "output_type": "execute_result"
    }
   ],
   "source": [
    "#Toma numeros binarios separados por coma revisa si son divisibles entre 5 y si lo son los regresa en su estado binario\n",
    "\n",
    "def binary_divisible_by_5(binaries):\n",
    "    return ','.join([b for b in binaries.split(',') if int(b, 2) % 5 == 0])\n",
    "                                                    #Convierte el binario a decuimal\n",
    "binaries = '1101,1010,1111,1001'\n",
    "binary_divisible_by_5(binaries)"
   ]
  },
  {
   "cell_type": "code",
   "execution_count": null,
   "id": "a32af4b5-a74f-4555-83b3-c7f422f16233",
   "metadata": {},
   "outputs": [],
   "source": [
    "#Siguiente"
   ]
  },
  {
   "cell_type": "code",
   "execution_count": 2,
   "id": "5c831919-45cb-44ec-97b3-5c00e6174700",
   "metadata": {},
   "outputs": [
    {
     "name": "stdout",
     "output_type": "stream",
     "text": [
      "[[0, 0, 0], [0, 0, 1], [0, 1, 0], [1, 0, 0], [1, 1, 1]]\n"
     ]
    }
   ],
   "source": [
    "#Dados 4 enteros cree una matriz ejemplo x , y , z como las dimensiones de un cuboide junto con un entero n\n",
    "#en  un grid 3d donde x + y + z no es igual que n \n",
    "#Use list comprehension\n",
    "#\n",
    "\n",
    "\n",
    "x = 1\n",
    "y = 1\n",
    "z = 1\n",
    "n = 2\n",
    "\n",
    "#lista = [x, y, z]\n",
    "matriz = [[i, j, k] \n",
    "          for i in range(x + 1) \n",
    "          for j in range(y + 1) \n",
    "          for k in range(z + 1) \n",
    "          if i + j + k != n]\n",
    "print(matriz)\n",
    "\n"
   ]
  },
  {
   "cell_type": "code",
   "execution_count": 3,
   "id": "bf23a1bc-c5f9-4647-9370-76c9fb75a672",
   "metadata": {},
   "outputs": [],
   "source": [
    "#Siguiente"
   ]
  },
  {
   "cell_type": "code",
   "execution_count": 14,
   "id": "0a88d862-2824-4b55-be97-03dbb03f6684",
   "metadata": {},
   "outputs": [
    {
     "name": "stdout",
     "output_type": "stream",
     "text": [
      "True\n",
      "True\n",
      "False\n"
     ]
    }
   ],
   "source": [
    "# revisar si existe el 6 al inicio y final de una lista\n",
    "\n",
    "def first_last6(nums):\n",
    "    if nums[0] == 6:\n",
    "      return True\n",
    "    elif nums[-1] == 6:\n",
    "        return True\n",
    "    else:\n",
    "      return False\n",
    "\n",
    "\n",
    "print(first_last6([1, 2, 6]))\n",
    "print(first_last6([6, 1, 2, 3]) )\n",
    "print(first_last6([13, 6, 1, 2, 3]))"
   ]
  },
  {
   "cell_type": "code",
   "execution_count": 32,
   "id": "df2fb8e6-1063-4762-95de-89069967eb13",
   "metadata": {},
   "outputs": [],
   "source": [
    "#Siguiente"
   ]
  },
  {
   "cell_type": "code",
   "execution_count": 33,
   "id": "9f563cbb-8555-4a8f-aaa7-87481fb21ecf",
   "metadata": {},
   "outputs": [
    {
     "name": "stdout",
     "output_type": "stream",
     "text": [
      "kcuf\n"
     ]
    }
   ],
   "source": [
    "#Voltear una cadena\n",
    "cadena = \"fuck\"\n",
    "reverse = cadena[::-1]\n",
    "print(reverse)"
   ]
  },
  {
   "cell_type": "code",
   "execution_count": null,
   "id": "6dbd0fc8-73e8-4b46-b96b-234c4ba7411e",
   "metadata": {},
   "outputs": [],
   "source": [
    "#Siguiente"
   ]
  },
  {
   "cell_type": "code",
   "execution_count": 6,
   "id": "a4120358-f388-4c31-9b81-082acef38404",
   "metadata": {},
   "outputs": [
    {
     "name": "stdout",
     "output_type": "stream",
     "text": [
      "a\n"
     ]
    }
   ],
   "source": [
    "#Contar la letra que mas se repite en una lista \n",
    "\n",
    "from collections import Counter\n",
    "\n",
    "letters = [\"a\", \"b\", \"c\", \"a\", \"b\", \"a\"]\n",
    "count = Counter(letters)\n",
    "\n",
    "most_common_letter = count.most_common(1)[0][0]\n",
    "print(most_common_letter)"
   ]
  },
  {
   "cell_type": "code",
   "execution_count": null,
   "id": "3faf566a-fdc3-4328-84ab-78a89da26eee",
   "metadata": {},
   "outputs": [],
   "source": [
    "#Siguiente"
   ]
  },
  {
   "cell_type": "code",
   "execution_count": 16,
   "id": "dd1d3de3-19c8-49b3-9575-721631b18063",
   "metadata": {},
   "outputs": [
    {
     "name": "stdout",
     "output_type": "stream",
     "text": [
      "5\n",
      "0\n",
      "100\n"
     ]
    }
   ],
   "source": [
    "#Recibe un texto y si tiene numeros retornar la suma de estos si no hay numeros retorna 0\n",
    "\n",
    "import re #expresiones regulares\n",
    "\n",
    "def sumar_numeros_en_texto(texto):\n",
    "    # Buscar todos los números en el texto (positivos)\n",
    "    numeros = re.findall(r'\\d+', texto)\n",
    "    # Convertirlos a enteros y sumarlos\n",
    "    return sum(map(int, numeros)) if numeros else 0\n",
    "\n",
    "print(sumar_numeros_en_texto(\"Tengo 2 perros y 3 gatos\"))   # 5\n",
    "print(sumar_numeros_en_texto(\"No hay números aquí\"))        # 0\n",
    "print(sumar_numeros_en_texto(\"100 días de código\"))         # 100\n",
    "\n",
    "#La mejor forma de hacerlo:\n",
    "#sum_numbers = lambda text: sum(int(word) for word in text.split() if word.isdigit())\n"
   ]
  },
  {
   "cell_type": "code",
   "execution_count": null,
   "id": "a453f1ed-e172-4be1-962c-6e24f0df4cef",
   "metadata": {},
   "outputs": [],
   "source": [
    "#Siguiente"
   ]
  },
  {
   "cell_type": "code",
   "execution_count": 19,
   "id": "c79d73d7-0d52-43ad-b142-e938f81b8c27",
   "metadata": {},
   "outputs": [
    {
     "name": "stdout",
     "output_type": "stream",
     "text": [
      "Example:\n",
      "1\n",
      "0\n"
     ]
    }
   ],
   "source": [
    "#Encontrar cuantos 0 hay al final de un numero entero \n",
    "\n",
    "def end_zeros(a: int) -> int:\n",
    "    num_str = str(a)\n",
    "    zero_count = 0\n",
    "    \n",
    "    for i in reversed(num_str):\n",
    "        digit = int(i)\n",
    "        \n",
    "        if digit == 0:\n",
    "            zero_count += 1\n",
    "        else:\n",
    "            break       \n",
    "    return zero_count\n",
    "\n",
    "\n",
    "print(\"Example:\")\n",
    "print(end_zeros(10))\n",
    "print(end_zeros(401))"
   ]
  },
  {
   "cell_type": "code",
   "execution_count": null,
   "id": "6ab4faf9-c581-4e22-a981-0e9baecfc6cd",
   "metadata": {},
   "outputs": [],
   "source": [
    "#Siguiente"
   ]
  },
  {
   "cell_type": "code",
   "execution_count": 33,
   "id": "b95a458b-5b69-4915-ae22-fcc42136a5e4",
   "metadata": {},
   "outputs": [
    {
     "data": {
      "text/plain": [
       "120"
      ]
     },
     "execution_count": 33,
     "metadata": {},
     "output_type": "execute_result"
    }
   ],
   "source": [
    "#  recursividad\n",
    "#factorial de un numero por ejemplo el de 5 seria 1*2*3*4*5 = 120\n",
    "\n",
    "def factorial(num):\n",
    "    if num == 0:\n",
    "        fact = 1\n",
    "    else:\n",
    "        fact = factorial(num - 1) * num\n",
    "    return fact\n",
    "\n",
    "        \n",
    "\n",
    "factorial(5)"
   ]
  },
  {
   "cell_type": "code",
   "execution_count": null,
   "id": "1ef5df59-b94c-4629-9262-de511aee41ee",
   "metadata": {},
   "outputs": [],
   "source": [
    "#Siguiente "
   ]
  },
  {
   "cell_type": "code",
   "execution_count": 34,
   "id": "8ce30c07-23b1-4dbf-b104-b2f8541dc8c4",
   "metadata": {},
   "outputs": [
    {
     "name": "stdout",
     "output_type": "stream",
     "text": [
      "55\n"
     ]
    }
   ],
   "source": [
    "#Recursividad\n",
    "#Fibonacci funciona de la siguiente manera:\n",
    "#Se suman los numeros con el anterior por ejemplo:\n",
    "#0, 1, 1, 2, 3, 5, 8, 13, 21,34,\n",
    "\n",
    "def fib(n):\n",
    "    if n == 0: return 0\n",
    "    if n == 1: return 1\n",
    "    return fib(n-1) + fib(n-2)\n",
    "\n",
    "print(fib(10))"
   ]
  },
  {
   "cell_type": "code",
   "execution_count": 5,
   "id": "bd740eda-9301-457f-9b10-99e582d9ff6d",
   "metadata": {},
   "outputs": [],
   "source": [
    "#Siguiente"
   ]
  },
  {
   "cell_type": "code",
   "execution_count": 13,
   "id": "65be0a40-20b9-43c3-9420-7d2e60a00014",
   "metadata": {},
   "outputs": [
    {
     "name": "stdout",
     "output_type": "stream",
     "text": [
      "[1, 2, 3]\n",
      "[4, 5, 6]\n",
      "[9, 8, 9]\n",
      "1\n",
      "2\n",
      "3\n",
      "4\n",
      "5\n",
      "6\n",
      "9\n",
      "8\n",
      "9\n",
      "La diferencia absoluta de las diagonales es: 2\n",
      "2\n"
     ]
    }
   ],
   "source": [
    "#Un poco de matrix\n",
    "matrix = [[1,2,3],\n",
    "         [4,5,6],\n",
    "         [9,8,9]]\n",
    "# itera por cada linea de la matriz\n",
    "for row in matrix:\n",
    "    print(row)\n",
    "    \n",
    "#itera por cada elemento en la matriz\n",
    "for row in matrix:\n",
    "    for element in row:\n",
    "        print(element)\n",
    "\n",
    "\n",
    "#Diferencia absoluta entre las diagonales de una matriz solo funciona en matrices 3x3 \n",
    "\n",
    "resultado1 = matrix[0][2] + matrix[1][1] + matrix[2][0]#suma de la diagonal de derecha a izquierda\n",
    "\n",
    "resultado2 = matrix[0][0] + matrix[1][1] + matrix[2][2]#suma de la diagonal de izquierda a derecha\n",
    "\n",
    "print(f\"La diferencia absoluta de las diagonales es: {resultado1 - resultado2}\")\n",
    "\n",
    "#La mejor forma para matrices de otros tama;os 4x4 , 5x5 etx\n",
    "def diagonalDifference(arr):\n",
    "    n = len(arr)\n",
    "    primary = 0\n",
    "    secondary = 0\n",
    "    for i in range(n):\n",
    "        primary += arr[i][i]\n",
    "        secondary += arr[i][n - 1 - i]\n",
    "    return abs(primary - secondary)\n",
    "\n",
    "print(diagonalDifference(matrix))"
   ]
  },
  {
   "cell_type": "code",
   "execution_count": null,
   "id": "7579e690-c8bf-4a0b-8a10-95ad0d958079",
   "metadata": {},
   "outputs": [],
   "source": [
    "#Siguiente  #17"
   ]
  },
  {
   "cell_type": "code",
   "execution_count": 4,
   "id": "8c97bfbd-cc68-4684-9151-b78d22f288f5",
   "metadata": {},
   "outputs": [
    {
     "name": "stdout",
     "output_type": "stream",
     "text": [
      "0.500000\n",
      "0.333333\n",
      "0.166667\n"
     ]
    }
   ],
   "source": [
    "#De una lista toma positivos, negativos y zeros se dividen entre la cantidad de numeros en una la lista\n",
    "#Es necesario que tengan 6 decimales\n",
    "\n",
    "def plusMinus(arr):\n",
    "   \n",
    "    positive = 0 #Toma cuantos positivos hay en el array\n",
    "    negative = 0 #**           negativos     ** \n",
    "    zero = 0     #             zeros         **\n",
    "    \n",
    "    for i in arr:\n",
    "        if i > 0:\n",
    "            positive += 1\n",
    "        \n",
    "        elif i < 0:\n",
    "            negative += 1\n",
    "        \n",
    "        elif i == 0:\n",
    "            zero += 1\n",
    "        \n",
    "    p = positive / len(arr)\n",
    "    n = negative / len(arr)\n",
    "    z = zero/ len(arr)\n",
    "    \n",
    "    #Devuelve con formato de 6 decimales importante\n",
    "    print(\"{:.6f}\".format(p))\n",
    "    print(\"{:.6f}\".format(n))\n",
    "    print(\"{:.6f}\".format(z))\n",
    "\n",
    "    \n",
    "lis = [-4 ,3, -9, 0, 4, 1]\n",
    "plusMinus(lis)"
   ]
  },
  {
   "cell_type": "code",
   "execution_count": null,
   "id": "a22e12ce-6e37-4d99-ad45-48a89f4965c7",
   "metadata": {},
   "outputs": [],
   "source": [
    "#Siguiente"
   ]
  },
  {
   "cell_type": "code",
   "execution_count": 22,
   "id": "30cc253c-0035-49f6-b82a-d203a9bd678b",
   "metadata": {},
   "outputs": [
    {
     "name": "stdout",
     "output_type": "stream",
     "text": [
      "      #\n",
      "     ##\n",
      "    ###\n",
      "   ####\n",
      "  #####\n",
      " ######\n",
      "Segunda solucion: \n",
      "     #\n",
      "    ##\n",
      "   ###\n",
      "  ####\n",
      " #####\n",
      "######\n"
     ]
    }
   ],
   "source": [
    "#Escalera\n",
    "\n",
    "#Esta  solucion imprime mas espacios de los que deberia aun que funciona\n",
    "stepsdown = 6\n",
    "stepsup = 1\n",
    "for s in range(stepsdown):\n",
    "    print((\" \" * stepsdown) + ( \"#\" * stepsup) )\n",
    "    stepsdown -= 1\n",
    "    stepsup +=1\n",
    "\n",
    "\n",
    "#Solucion aparentemente correcta\n",
    "n = 6\n",
    "print(\"Segunda solucion: \")\n",
    "for i in range(1, n + 1):\n",
    "    print(\" \" * (n - i) + \"#\" * i)"
   ]
  },
  {
   "cell_type": "code",
   "execution_count": 28,
   "id": "6dc57ecb-0dcd-478a-a598-9b195ebb05c0",
   "metadata": {},
   "outputs": [
    {
     "name": "stdout",
     "output_type": "stream",
     "text": [
      "[1, 2]\n"
     ]
    }
   ],
   "source": [
    "#Devolver el index de los dos numeros que sumen el target\n",
    "\n",
    "def twoSum(nums, target):\n",
    "    for i in range(len(nums)): # El primer indice\n",
    "        for j in range(i + 1, len(nums)): # El segundo indice a la derecha\n",
    "            if nums[i] + nums[j] == target:\n",
    "                return [i, j]\n",
    "    return []\n",
    "\n",
    "print(twoSum([3, 2, 4], 6))\n"
   ]
  },
  {
   "cell_type": "code",
   "execution_count": null,
   "id": "3514f462-4faa-45d6-a3fe-c8db216e3e19",
   "metadata": {},
   "outputs": [],
   "source": [
    "#Siguiente"
   ]
  },
  {
   "cell_type": "code",
   "execution_count": 40,
   "id": "de66f733-8876-487e-a37a-70c6ddb2462f",
   "metadata": {},
   "outputs": [
    {
     "name": "stdout",
     "output_type": "stream",
     "text": [
      "True\n"
     ]
    }
   ],
   "source": [
    "#revisar si un numero es palindromo\n",
    "# devuelve true si lo es de lo contrario false\n",
    "\n",
    "def isPalindrome(x):\n",
    "    to_string = str(x)\n",
    "    reversed_string = to_string[::-1] # Asi se le da vuelta a un string\n",
    "    if to_string == reversed_string:\n",
    "        return True\n",
    "    else:\n",
    "        return False\n",
    "\n",
    "\n",
    "print(isPalindrome(121))"
   ]
  },
  {
   "cell_type": "code",
   "execution_count": null,
   "id": "147c5e19-a41d-449f-a317-6e2dec49f03d",
   "metadata": {},
   "outputs": [],
   "source": [
    "#Siguiente"
   ]
  },
  {
   "cell_type": "code",
   "execution_count": 7,
   "id": "9fbd3e7c-ca15-4c19-bbad-7905b3a2e63a",
   "metadata": {},
   "outputs": [
    {
     "name": "stdout",
     "output_type": "stream",
     "text": [
      "(10, 14)\n"
     ]
    }
   ],
   "source": [
    "#suma las combinaciones en la lista y regresa la suma mayor y menor\n",
    "def miniMaxSum(arr):\n",
    "    # Write your code here\n",
    "    results = []\n",
    "    for i in arr:\n",
    "        sumation = sum(arr) - i\n",
    "        results.append(sumation)\n",
    "        \n",
    "    \n",
    "    return min(results), max(results)\n",
    "    \n",
    "li = [1, 2, 3, 4, 5]\n",
    "print(miniMaxSum(li))"
   ]
  },
  {
   "cell_type": "code",
   "execution_count": null,
   "id": "ff56a8ea-16bb-4664-83b7-44599a04e749",
   "metadata": {},
   "outputs": [],
   "source": [
    "#Siguiente"
   ]
  },
  {
   "cell_type": "code",
   "execution_count": 1,
   "id": "06115de5-f4a5-49f6-8161-d4e11b977df4",
   "metadata": {},
   "outputs": [
    {
     "name": "stdin",
     "output_type": "stream",
     "text": [
      " 5\n"
     ]
    },
    {
     "name": "stdout",
     "output_type": "stream",
     "text": [
      "    H    \n",
      "   HHH   \n",
      "  HHHHH  \n",
      " HHHHHHH \n",
      "HHHHHHHHH\n",
      "  HHHHH               HHHHH             \n",
      "  HHHHH               HHHHH             \n",
      "  HHHHH               HHHHH             \n",
      "  HHHHH               HHHHH             \n",
      "  HHHHH               HHHHH             \n",
      "  HHHHH               HHHHH             \n",
      "  HHHHHHHHHHHHHHHHHHHHHHHHH   \n",
      "  HHHHHHHHHHHHHHHHHHHHHHHHH   \n",
      "  HHHHHHHHHHHHHHHHHHHHHHHHH   \n",
      "  HHHHH               HHHHH             \n",
      "  HHHHH               HHHHH             \n",
      "  HHHHH               HHHHH             \n",
      "  HHHHH               HHHHH             \n",
      "  HHHHH               HHHHH             \n",
      "  HHHHH               HHHHH             \n",
      "                    HHHHHHHHH \n",
      "                     HHHHHHH  \n",
      "                      HHHHH   \n",
      "                       HHH    \n",
      "                        H     \n"
     ]
    }
   ],
   "source": [
    "#Armar la H de Hacker rank con Hs  \n",
    "#    H\n",
    "#   HHH\n",
    "#  HHHHH\n",
    "# HHHHHHH\n",
    "#HHHHHHHHH\n",
    "#  HHHHH               HHHHH\n",
    "#  HHHHH               HHHHH\n",
    "#  HHHHH               HHHHH\n",
    "#  HHHHH               HHHHH\n",
    "#  HHHHH               HHHHH\n",
    "#  HHHHH               HHHHH\n",
    "#  HHHHHHHHHHHHHHHHHHHHHHHHH\n",
    "#  HHHHHHHHHHHHHHHHHHHHHHHHH\n",
    "#  HHHHHHHHHHHHHHHHHHHHHHHHH\n",
    "#  HHHHH               HHHHH\n",
    "#  HHHHH               HHHHH\n",
    "#  HHHHH               HHHHH\n",
    "#  HHHHH               HHHHH\n",
    "#  HHHHH               HHHHH\n",
    "#  HHHHH               HHHHH\n",
    "\n",
    "\n",
    "#Replace all ______ with rjust, ljust or center. \n",
    "\n",
    "thickness = int(input()) #This must be an odd number\n",
    "c = 'H'\n",
    "\n",
    "#Top Cone\n",
    "for i in range(thickness):\n",
    "    print((c*i).rjust(thickness-1)+c+(c*i).ljust(thickness-1))\n",
    "\n",
    "#Top Pillars\n",
    "for i in range(thickness+1):\n",
    "    print((c*thickness).center(thickness*2)+(c*thickness).center(thickness*6))\n",
    "\n",
    "#Middle Belt\n",
    "for i in range((thickness+1)//2):\n",
    "    print((c*thickness*5).center(thickness*6))    \n",
    "\n",
    "#Bottom Pillars\n",
    "for i in range(thickness+1):\n",
    "    print((c*thickness).center(thickness*2)+(c*thickness).center(thickness*6))    \n",
    "\n",
    "#Bottom Cone\n",
    "for i in range(thickness):\n",
    "    print(((c*(thickness-i-1)).rjust(thickness)+c+(c*(thickness-i-1)).ljust(thickness)).rjust(thickness*6))"
   ]
  },
  {
   "cell_type": "code",
   "execution_count": 2,
   "id": "ec28a1f2-06e2-498d-a819-f1c00d4c2416",
   "metadata": {},
   "outputs": [],
   "source": [
    "#Siguiente #21"
   ]
  },
  {
   "cell_type": "code",
   "execution_count": null,
   "id": "473c1bcd-de10-4421-98e9-bd87fdad3195",
   "metadata": {},
   "outputs": [],
   "source": [
    "#"
   ]
  }
 ],
 "metadata": {
  "kernelspec": {
   "display_name": "Python [conda env:base] *",
   "language": "python",
   "name": "conda-base-py"
  },
  "language_info": {
   "codemirror_mode": {
    "name": "ipython",
    "version": 3
   },
   "file_extension": ".py",
   "mimetype": "text/x-python",
   "name": "python",
   "nbconvert_exporter": "python",
   "pygments_lexer": "ipython3",
   "version": "3.12.7"
  }
 },
 "nbformat": 4,
 "nbformat_minor": 5
}

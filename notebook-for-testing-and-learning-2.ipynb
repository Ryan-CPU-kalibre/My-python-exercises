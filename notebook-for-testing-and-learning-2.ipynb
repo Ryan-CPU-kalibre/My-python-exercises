{
 "cells": [
  {
   "cell_type": "markdown",
   "id": "0b9608eb-7da8-4e4b-8032-68cb4d0bbf78",
   "metadata": {},
   "source": []
  },
  {
   "cell_type": "code",
   "execution_count": 11,
   "id": "76056a65-b75b-44c9-99d4-a8d1ed5cbd52",
   "metadata": {},
   "outputs": [
    {
     "name": "stdout",
     "output_type": "stream",
     "text": [
      "[75, 67, 40, 33]\n"
     ]
    }
   ],
   "source": [
    "#1\n",
    "#Tomar una lista de calificaciones de estudiantes el porfe necesita que si la nota es menor de 38 no se redondea el estudiante reprobo\n",
    "#si la nota es mayor a 38 y tiene menos de 3 al siguiente multiplo de 5 se redondea al siguiente multiplo de 5 ej: 73 pasa a ser 75. 75-73=2\n",
    "\n",
    "def gradingStudents(grades):\n",
    "    # Write your code here\n",
    "    rounded_grades = []\n",
    "    \n",
    "    for grade in grades:\n",
    "        if grade >= 38:\n",
    "            next_multi = ((grade // 5)+1) *5 \n",
    "            if next_multi - grade < 3:\n",
    "                rounded_grades.append(next_multi)\n",
    "                \n",
    "            elif next_multi - grade >= 3:\n",
    "                rounded_grades.append(grade)\n",
    "        else:\n",
    "            rounded_grades.append(grade)\n",
    "               \n",
    "    return rounded_grades\n",
    "    \n",
    "grades = [73,67,38,33]\n",
    "\n",
    "print(gradingStudents(grades))"
   ]
  },
  {
   "cell_type": "code",
   "execution_count": null,
   "id": "7cce9ff0-43f8-4fa6-95ab-20a61778c65e",
   "metadata": {},
   "outputs": [],
   "source": [
    "#Siguient: #2"
   ]
  },
  {
   "cell_type": "code",
   "execution_count": 18,
   "id": "9748a63f-0170-4775-80b7-16a4ab98426c",
   "metadata": {},
   "outputs": [
    {
     "name": "stdout",
     "output_type": "stream",
     "text": [
      "Not Weird\n"
     ]
    }
   ],
   "source": [
    "#\n",
    "\n",
    "n= 4\n",
    "\n",
    "if n % 2 != 0: # si es inpar\n",
    "    print(\"Weird\")\n",
    "        \n",
    "elif n % 2 == 0 and n in range(2, 6): # Si es par en el rango de 2 a 5\n",
    "    print(\"Not Weird\")\n",
    "    \n",
    "elif n % 2 == 0 and n in range(6,21): #Si es par en el rango de 6 a 20\n",
    "    print(\"Weird\") \n",
    "        \n",
    "elif n % 2 == 0 and n > 20: # si es par y mayor a 20\n",
    "    print(\"Not Weird\")"
   ]
  },
  {
   "cell_type": "code",
   "execution_count": null,
   "id": "ccd8d30e-6887-44ba-bf47-e0556b8e375e",
   "metadata": {},
   "outputs": [],
   "source": [
    "#Siguiente: #3"
   ]
  },
  {
   "cell_type": "code",
   "execution_count": null,
   "id": "595421a4-7d8c-4da7-86ed-f0e509a490d7",
   "metadata": {},
   "outputs": [],
   "source": [
    "#Acomodar en orden primero minusculas, mayusculas , digitos inpars y digitos pares al final  \n",
    "uppers = []\n",
    "lowers = []\n",
    "digits_odd = []\n",
    "digits_even = []\n",
    "\n",
    "\n",
    "word = \"Sorting1234\"\n",
    "\n",
    "for w in word:\n",
    "    if w.islower():\n",
    "        lowers.append(w)\n",
    "    \n",
    "    elif w.isupper():\n",
    "        uppers.append(w)\n",
    "   \n",
    "    elif w.isdigit():\n",
    "        if int(w) % 2 != 0:\n",
    "            digits_odd.append(w)\n",
    "        elif int(w) % 2 == 0:\n",
    "            digits_even.append(w)\n",
    "\n",
    "\n",
    "words = sorted(lower)+ sorted(upper) + sorted(digits_odd) + sorted(digits_even)\n",
    "\n",
    "\n",
    "print(\"\".join(words))"
   ]
  },
  {
   "cell_type": "code",
   "execution_count": 17,
   "id": "1029c9a2-fde4-4283-99c1-07d6d5d88c97",
   "metadata": {},
   "outputs": [],
   "source": [
    "#Siguiente #4"
   ]
  },
  {
   "cell_type": "code",
   "execution_count": 6,
   "id": "c8a724cc-0d53-4f81-9f1c-2f95ab0c9c64",
   "metadata": {},
   "outputs": [
    {
     "name": "stdout",
     "output_type": "stream",
     "text": [
      "3\n",
      "1\n",
      "-1\n",
      "2\n",
      "0\n",
      "1\n"
     ]
    }
   ],
   "source": [
    "# A type of convert two slices of a word to an anagram\n",
    "\n",
    "from collections import Counter\n",
    "\n",
    "def anagram(s):\n",
    "    if len(s) % 2 != 0:\n",
    "        return -1\n",
    "\n",
    "    size = len(s) // 2\n",
    "    half1 = s[:size]\n",
    "    half2 = s[size:]\n",
    "\n",
    "    #Contamos cuanto aparece cada lentra en cada mitad\n",
    "    count1 = Counter(half1) \n",
    "    count2 = Counter(half2)\n",
    "\n",
    "    diff = 0\n",
    "    for char in count1:\n",
    "        if count1[char] > count2.get(char, 0):\n",
    "            diff += count1[char] - count2.get(char, 0)\n",
    "\n",
    "    return diff\n",
    "    \n",
    "print(anagram(\"aaabbb\"))\n",
    "print(anagram(\"ab\"))\n",
    "print(anagram(\"abc\"))\n",
    "print(anagram(\"mnop\"))\n",
    "print(anagram(\"xyyx\"))\n",
    "print(anagram(\"xaxbbbxx\"))\n",
    "\n"
   ]
  },
  {
   "cell_type": "code",
   "execution_count": null,
   "id": "f4daee0d-6041-4a1e-89fe-4a9cdc0a250a",
   "metadata": {},
   "outputs": [],
   "source": [
    "#Siguiente #5"
   ]
  },
  {
   "cell_type": "code",
   "execution_count": 19,
   "id": "a325d3a0-4f8f-4f8a-9f48-9dac7e51d22b",
   "metadata": {},
   "outputs": [
    {
     "name": "stdout",
     "output_type": "stream",
     "text": [
      "1\n"
     ]
    }
   ],
   "source": [
    "def numCells(grid):\n",
    "    \"\"\"\n",
    "    Cuenta cuántas celdas son dominantes en una matriz 2D.\n",
    "    \n",
    "    Una celda es dominante si su valor es estrictamente mayor que \n",
    "    el de todos sus vecinos adyacentes (arriba, abajo, izquierda, derecha y diagonales).\n",
    "    \n",
    "    Parámetros:\n",
    "    grid (List[List[int]]): Matriz 2D de enteros (n x m)\n",
    "    \n",
    "    Retorna:\n",
    "    int: Número de celdas dominantes\n",
    "    \"\"\"\n",
    "    rows = len(grid)        # Número de filas\n",
    "    cols = len(grid[0])     # Número de columnas\n",
    "    count = 0               # Contador de celdas dominantes\n",
    "\n",
    "    # Coordenadas relativas a una celda para obtener los 8 vecinos:\n",
    "    # (-1, -1): arriba izquierda\n",
    "    # (-1, 0): arriba\n",
    "    # (-1, 1): arriba derecha\n",
    "    # (0, -1): izquierda\n",
    "    # (0, 1): derecha\n",
    "    # (1, -1): abajo izquierda\n",
    "    # (1, 0): abajo\n",
    "    # (1, 1): abajo derecha\n",
    "    directions = [(-1, -1), (-1, 0), (-1, 1),\n",
    "                  (0, -1),           (0, 1),\n",
    "                  (1, -1),  (1, 0),  (1, 1)]\n",
    "\n",
    "    # Recorremos cada celda de la matriz\n",
    "    for i in range(rows):\n",
    "        for j in range(cols):\n",
    "            current = grid[i][j]      # Valor actual de la celda\n",
    "            is_dominant = True        # Asumimos que es dominante\n",
    "\n",
    "            # Revisamos todos los vecinos\n",
    "            for dx, dy in directions:\n",
    "                ni, nj = i + dx, j + dy   # Coordenadas del vecino\n",
    "\n",
    "                # Verificamos si el vecino está dentro de los límites\n",
    "                if 0 <= ni < rows and 0 <= nj < cols:\n",
    "                    if grid[ni][nj] >= current:\n",
    "                        # Si el vecino tiene valor igual o mayor, no es dominante\n",
    "                        is_dominant = False\n",
    "                        break  # No hace falta seguir revisando más vecinos\n",
    "\n",
    "            # Si se mantuvo como dominante, lo contamos\n",
    "            if is_dominant:\n",
    "                count += 1\n",
    "\n",
    "    return count\n",
    "\n",
    "\n",
    "\n",
    "grid = [\n",
    "    [1, 2, 3],\n",
    "    [4, 9, 2],\n",
    "    [6, 1, 5]\n",
    "]\n",
    "\n",
    "print(numCells(grid))  # Salida esperada: 1\n",
    "\n",
    " "
   ]
  },
  {
   "cell_type": "code",
   "execution_count": 33,
   "id": "1919adf5-d6b0-4a34-9800-ac43047cb9a0",
   "metadata": {},
   "outputs": [
    {
     "name": "stdout",
     "output_type": "stream",
     "text": [
      "5\n"
     ]
    }
   ],
   "source": [
    "#Second highest in a list\n",
    "lista = [2, 3, 6, 6, 5]\n",
    "\n",
    "ordered_list = sorted(lista)\n",
    "no_duplicates = list(set(ordered_list)) \n",
    "second_highest =no_duplicates[-2]\n",
    "print(second_highest)"
   ]
  },
  {
   "cell_type": "code",
   "execution_count": null,
   "id": "f8b50c32-384a-48cb-9d57-20395bfde25e",
   "metadata": {},
   "outputs": [],
   "source": [
    "#Siguiente #6"
   ]
  },
  {
   "cell_type": "code",
   "execution_count": 10,
   "id": "7456ae26-e90d-4129-b26c-76d6a2f75996",
   "metadata": {},
   "outputs": [
    {
     "name": "stdout",
     "output_type": "stream",
     "text": [
      "2 1 1 "
     ]
    }
   ],
   "source": [
    "#Usar libreria collections para contar elementos,\n",
    "#Contar cuantas veces se repite una palabra en un array\n",
    "\n",
    "from collections import Counter\n",
    "n = 4\n",
    "words = ['bcdef', 'abcdefg', 'bcde', 'bcdef']\n",
    "\n",
    "count = Counter(words)#Contamos cuantas veces aparece cada palabra en la lista. Regresa como un objeto counter    \n",
    "    \n",
    "word_count = list(count.values())# convertimos a lista para facil manipulacion\n",
    "\n",
    "for i in word_count:\n",
    "    print(i, end=\" \")# end para evitar el salto de linea en cada iteracion"
   ]
  },
  {
   "cell_type": "code",
   "execution_count": null,
   "id": "6a481790-ff97-4e36-9d56-58f3541f6c0c",
   "metadata": {},
   "outputs": [],
   "source": [
    "#Siguiente #7"
   ]
  },
  {
   "cell_type": "code",
   "execution_count": 10,
   "id": "57779295-6f2d-4efa-b614-e03bc8a1a9f1",
   "metadata": {},
   "outputs": [
    {
     "name": "stdin",
     "output_type": "stream",
     "text": [
      " cuadro\n",
      " triangulo\n",
      " recto\n"
     ]
    },
    {
     "name": "stdout",
     "output_type": "stream",
     "text": [
      "-1\n"
     ]
    },
    {
     "name": "stdin",
     "output_type": "stream",
     "text": [
      " s\n"
     ]
    },
    {
     "name": "stdout",
     "output_type": "stream",
     "text": [
      "-1\n"
     ]
    },
    {
     "name": "stdin",
     "output_type": "stream",
     "text": [
      " s\n"
     ]
    },
    {
     "name": "stdout",
     "output_type": "stream",
     "text": [
      "-1\n"
     ]
    }
   ],
   "source": [
    "#Defaultdict ejercicio de hackerank\n",
    "\n",
    "# Importamos defaultdict desde la librería collections\n",
    "from collections import defaultdict\n",
    "\n",
    "# Leemos los valores de n (número de palabras en A) y m (número de consultas en B)\n",
    "n = 2\n",
    "m = 3\n",
    "\n",
    "# Creamos un defaultdict de tipo lista, que almacenará los índices de las palabras en A\n",
    "d = defaultdict(list)\n",
    "\n",
    "# Leemos las palabras de A y guardamos sus índices (comenzando desde 1, como se indica)\n",
    "for i in range(1, n + 1):\n",
    "    word = input()  # Leemos una palabra\n",
    "    d[word].append(i)  # Guardamos la palabra en el diccionario con su índice (1-based)\n",
    "\n",
    "# Ahora procesamos las consultas, que son las palabras que queremos buscar en A\n",
    "for _ in range(m):\n",
    "    query = input()  # Leemos una palabra de B (consulta)\n",
    "    \n",
    "    if query in d:  # Si la palabra aparece en A, ya que usamos defaultdict\n",
    "        print(*d[query])  # Imprimimos los índices donde aparece la palabra, separados por espacio\n",
    "    else:\n",
    "        print(-1)  # Si no se encuentra la palabra en A, imprimimos -1\n",
    "\n",
    "\n",
    "    "
   ]
  },
  {
   "cell_type": "code",
   "execution_count": null,
   "id": "02f7bde9-efe0-4608-adbe-af57f0d7fb76",
   "metadata": {},
   "outputs": [],
   "source": [
    "#Siguiente #8"
   ]
  },
  {
   "cell_type": "code",
   "execution_count": 3,
   "id": "c70b6ec0-c68b-4eb3-93b0-f98863235442",
   "metadata": {},
   "outputs": [
    {
     "name": "stdout",
     "output_type": "stream",
     "text": [
      "YES\n",
      "NO\n"
     ]
    }
   ],
   "source": [
    "def kangaroo(x1, v1, x2, v2):\n",
    "    \"\"\"\n",
    "    Esta función determina si dos canguros que comienzan en posiciones diferentes (x1 y x2)\n",
    "    y con diferentes velocidades (v1 y v2) aterrizarán en la misma posición después del mismo número de saltos.\n",
    "    \n",
    "    Retorna \"YES\" si coinciden, \"NO\" si no lo hacen.\n",
    "    \"\"\"\n",
    "    \n",
    "    # Verificamos el caso en que el primer canguro está detrás del segundo\n",
    "    # pero salta más lejos en cada salto.\n",
    "    if x1 < x2 and v1 > v2:\n",
    "        \n",
    "        # Si la diferencia entre posiciones se divide exactamente entre la diferencia de velocidades,\n",
    "        # entonces en algún momento se encontrarán.\n",
    "        if (x2 - x1) % (v1 - v2) == 0:\n",
    "            return \"YES\"  # Se encontrarán exactamente en la misma posición al mismo tiempo.\n",
    "    \n",
    "    # En todos los demás casos (por ejemplo: misma velocidad, más lento, etc.), no se encontrarán.\n",
    "    return \"NO\"\n",
    "\n",
    "print(kangaroo(0,3,4,2))#Output = YES\n",
    "\n",
    "print(kangaroo(2,2,6,5)) #Ouput NO"
   ]
  },
  {
   "cell_type": "code",
   "execution_count": null,
   "id": "9fa38c9c-05ba-4c6f-8ed5-9c21e6041e18",
   "metadata": {},
   "outputs": [],
   "source": [
    "#Siguiente #9"
   ]
  },
  {
   "cell_type": "code",
   "execution_count": 7,
   "id": "850b445e-fe46-4dbe-b46a-ecacbc03c75d",
   "metadata": {},
   "outputs": [
    {
     "name": "stdout",
     "output_type": "stream",
     "text": [
      "[5, 4, 3, 2, 1]\n"
     ]
    }
   ],
   "source": [
    "#un uso de map()\n",
    "\n",
    "l = [\"5\",\"4\",\"3\",\"2\",\"1\"]\n",
    "\n",
    "new_list = list(map(int, l))# Asi transformamos todos sus elementos a int con funcion map()\n",
    "\n",
    "print(l)#Imprime lista de strings que contienen digitos unicamente\n",
    "\n",
    "print(new_list)"
   ]
  },
  {
   "cell_type": "code",
   "execution_count": 1,
   "id": "4e86c0e6-e41e-405d-a158-a9c10deb1565",
   "metadata": {},
   "outputs": [],
   "source": [
    "# Siguiente #10"
   ]
  },
  {
   "cell_type": "code",
   "execution_count": 5,
   "id": "0c6c62fd-8464-4e05-ba07-6ff2d72efece",
   "metadata": {},
   "outputs": [
    {
     "name": "stdout",
     "output_type": "stream",
     "text": [
      "0\n",
      "2\n",
      "1\n",
      "0\n",
      "1\n",
      "1\n",
      "0\n",
      "Ganancia total: 225\n"
     ]
    }
   ],
   "source": [
    "#Simulamos una tienda de zapatos con una lista de tallas luego\n",
    "#Customers seria dos valores int separados uno es la talla otra el precio\n",
    "#Finalmente tomamos el precio y lo sumamos para luego imprimir la ganancia\n",
    "#SI la talla no existe el zapato no se vende, no se sumaria su valor\n",
    "\n",
    "from collections import Counter  # Importamos Counter para contar elementos fácilmente\n",
    "\n",
    "\n",
    "# Lista con las tallas de zapatos disponibles\n",
    "shoe_sizes = [2, 3, 4, 5, 6, 8, 7, 6, 5, 18]\n",
    "\n",
    "# Lista con las solicitudes de los clientes.\n",
    "# Cada cliente es una tupla con: (talla_deseada, precio_ofrecido)\n",
    "customers = [\n",
    "    (6, 55),\n",
    "    (6, 60),\n",
    "    (6, 60),\n",
    "    (4, 40),\n",
    "    (18, 70),\n",
    "    (10, 100)\n",
    "]\n",
    "\n",
    "# Creamos un diccionario (Counter) para contar cuántos zapatos hay de cada talla\n",
    "shoe_counter = Counter(shoe_sizes)\n",
    "\n",
    "total_profit = 0\n",
    "\n",
    "for size, price in customers:\n",
    "    # Si aún hay zapatos disponibles de la talla solicitado\n",
    "    if shoe_counter[size] > 0:\n",
    "        total_profit += price             # Aceptamos la venta y sumamos la ganancia\n",
    "        shoe_counter[size] -= 1           # Reducimos la cantidad disponible de esa talla\n",
    "    # Si no hay zapatos de esa talla, simplemente no vendemos y seguimos al siguiente cliente\n",
    "\n",
    "print(\"Ganancia total:\", total_profit)\n"
   ]
  },
  {
   "cell_type": "code",
   "execution_count": 6,
   "id": "84e51d7d-1ab5-45c8-91c0-78027f30eded",
   "metadata": {},
   "outputs": [],
   "source": [
    "#Siguiente #11"
   ]
  },
  {
   "cell_type": "code",
   "execution_count": 49,
   "id": "5016f605-ce35-4dbc-a0be-37cf2ec393eb",
   "metadata": {},
   "outputs": [
    {
     "name": "stdout",
     "output_type": "stream",
     "text": [
      "m 2\n",
      "q 1\n",
      "w 1\n"
     ]
    }
   ],
   "source": [
    "#Contar las primeras tres palabras que mas se repiten en un String\n",
    "from collections import Counter\n",
    "\n",
    "S = \"qwertyuiopasdfghjklzxcvbnm\"\n",
    "count = Counter(S)\n",
    "\n",
    "values = list(count.values())\n",
    "\n",
    "switch = False\n",
    "\n",
    "for v in values:\n",
    "    if v == values[0]:\n",
    "        switch = True\n",
    "    else:\n",
    "        switch = False\n",
    "\n",
    "if switch == True:\n",
    "    count2 = sorted(count.items())\n",
    "\n",
    "    for i in range(0,3):\n",
    "        \n",
    "        character, count_value = count2[i]# Desempaquetamos la tupla (caracter, conteo)\n",
    "        \n",
    "        print(character, count_value)\n",
    "\n",
    "else:\n",
    "    for i, j in count.most_common(3): #Iteramos por Los primeros 3 mas comunes vienen ordenados en forma descendente\n",
    "        print(i , j) \n"
   ]
  },
  {
   "cell_type": "code",
   "execution_count": 50,
   "id": "fbf5cdb4-0ab9-424e-a5b5-ab5ca0564341",
   "metadata": {},
   "outputs": [],
   "source": [
    "#Otra forma de hacerlo mejor"
   ]
  },
  {
   "cell_type": "code",
   "execution_count": 52,
   "id": "6837ffa5-f524-45b3-a712-5d3c5f4f9bbd",
   "metadata": {},
   "outputs": [
    {
     "name": "stdout",
     "output_type": "stream",
     "text": [
      "b 3\n",
      "a 2\n",
      "c 2\n"
     ]
    }
   ],
   "source": [
    "from collections import Counter\n",
    "\n",
    "s = \"qwertyuiopasdfghjklzxcvbnm\"\n",
    "s2 = \"aabbbccde\"\n",
    "    \n",
    "count = Counter(s2)\n",
    "\n",
    "    # Ordenar por frecuencia descendente y luego por orden alfabético\n",
    "sorted_items = sorted(count.items(), key=lambda item: (-item[1], item[0]))\n",
    "\n",
    "    # Imprimir los primeros 3\n",
    "for i in range(3):\n",
    "    print(sorted_items[i][0], sorted_items[i][1])"
   ]
  },
  {
   "cell_type": "code",
   "execution_count": 53,
   "id": "22a7b0d9-681e-4fef-92db-444d1d7f1c7e",
   "metadata": {},
   "outputs": [],
   "source": [
    "#Siguiente #12"
   ]
  },
  {
   "cell_type": "code",
   "execution_count": 26,
   "id": "88ce6876-77bb-4dc9-b221-c5aef32dc3c6",
   "metadata": {},
   "outputs": [
    {
     "name": "stdout",
     "output_type": "stream",
     "text": [
      "hACKERrANK.COM PRESENTS pYTHONIST 2.\n"
     ]
    }
   ],
   "source": [
    "#Swap Case -> sWAP cASE\n",
    "\n",
    "s = \"HackerRank.com presents Pythonist 2.\"\n",
    "\n",
    "s_moded = \"\"\n",
    "\n",
    "for i in s: #Cuando recorremos el string tambien se itera por espacios en blanco \n",
    "    \n",
    "    if i.islower():\n",
    "        lu = i.upper()\n",
    "        s_moded +=lu\n",
    "\n",
    "    elif i.isupper():\n",
    "        ll = i.lower()\n",
    "        s_moded += ll\n",
    "    else:\n",
    "        s_moded +=i # Agregamos caracteres que no son letras\n",
    "        \n",
    "print(s_moded)"
   ]
  },
  {
   "cell_type": "code",
   "execution_count": 27,
   "id": "6df8abca-65ce-4669-9688-c92ef2cff078",
   "metadata": {},
   "outputs": [],
   "source": [
    "#Siguiente #13"
   ]
  },
  {
   "cell_type": "code",
   "execution_count": 9,
   "id": "011b706c-81bb-468b-9aa0-c446b1429240",
   "metadata": {},
   "outputs": [
    {
     "name": "stdout",
     "output_type": "stream",
     "text": [
      "AB\n",
      "CA\n",
      "AD\n"
     ]
    }
   ],
   "source": [
    "#MErge the tools\n",
    "\n",
    "s = 'AABCAAADA'\n",
    "k = 3  #k es el TAMAÑO de cada segmento\n",
    "\n",
    "for i in range(0, len(s), k):# Inicio, fin, paso\n",
    "    segment = s[i:i+k]  # tomamos un segmento de tamaño k, hacemos slice de i: hasta i + k\n",
    "    seen = \"\"\n",
    "    for ch in segment:\n",
    "        if ch not in seen:\n",
    "            seen += ch  # agregamos solo si no se repite\n",
    "    print(seen)\n",
    "\n"
   ]
  },
  {
   "cell_type": "code",
   "execution_count": 10,
   "id": "da151054-859f-42f0-8f0d-9796e2bb028e",
   "metadata": {},
   "outputs": [],
   "source": [
    "#Siguiente #14"
   ]
  },
  {
   "cell_type": "code",
   "execution_count": 8,
   "id": "42a28b97-044b-4a52-be3a-f1a0dadd9d40",
   "metadata": {},
   "outputs": [
    {
     "name": "stdout",
     "output_type": "stream",
     "text": [
      "Berry\n",
      "Harry\n"
     ]
    }
   ],
   "source": [
    "#Practice of nested lists as a matrix\n",
    "\n",
    "students = ['Harry', 'Berry', 'Tina', 'Akriti', 'Harsh']\n",
    "grades = [37.21, 37.21, 37.2, 41, 39]\n",
    "\n",
    "no_duplicated_grades = sorted(set(grades))# Ordenamos y quitamos duplicados\n",
    "\n",
    "second_lowest = no_duplicated_grades[1]\n",
    "\n",
    "matrix = list(zip(students, grades))\n",
    "\n",
    "second_students = []\n",
    "for name, grade in matrix:\n",
    "    if grade == second_lowest:\n",
    "        second_students.append(name)\n",
    "    \n",
    "    \n",
    "for i in sorted(second_students):\n",
    "    print(i)"
   ]
  },
  {
   "cell_type": "code",
   "execution_count": null,
   "id": "314213cd-ff32-4423-bfb7-8dd37b9609c4",
   "metadata": {},
   "outputs": [],
   "source": [
    "#Siguiente #15"
   ]
  },
  {
   "cell_type": "code",
   "execution_count": 11,
   "id": "f7c3a76b-9bec-41f4-a50f-f48897e9952e",
   "metadata": {},
   "outputs": [
    {
     "name": "stdout",
     "output_type": "stream",
     "text": [
      "Stuart 12\n"
     ]
    }
   ],
   "source": [
    "#Minion game\n",
    "\n",
    "def minion_game(string):\n",
    "    \n",
    "    # Inicializamos los puntajes de cada jugador\n",
    "    kevin_score = 0     # Kevin gana puntos con substrings que empiezan con vocal\n",
    "    stuart_score = 0    # Stuart gana puntos con substrings que empiezan con consonante\n",
    "\n",
    "    # Recorremos cada letra del string por su índice\n",
    "    for i in range(len(string)):\n",
    "        # Si el carácter actual es una vocal, Kevin gana puntos\n",
    "        if string[i] in \"AEIOU\":\n",
    "            # Kevin gana tantos puntos como substrings se pueden formar desde aquí: len(string) - i\n",
    "            kevin_score += len(string) - i\n",
    "        else:\n",
    "            # Si no es vocal, entonces es consonante → puntos para Stuart\n",
    "            stuart_score += len(string) - i\n",
    "\n",
    "    # Después de contar todos los puntos, determinamos quién ganó\n",
    "    if kevin_score > stuart_score:\n",
    "        print(f\"Kevin {kevin_score}\")   # Kevin tiene más puntos\n",
    "    elif stuart_score > kevin_score:\n",
    "        print(f\"Stuart {stuart_score}\") # Stuart tiene más puntos\n",
    "    else:\n",
    "        print(\"Draw\")  # Si tienen los mismos puntos, es empate\n",
    "\n",
    "# Ejemplo de uso:\n",
    "s = \"BANANA\"\n",
    "minion_game(s)\n",
    "\n"
   ]
  },
  {
   "cell_type": "code",
   "execution_count": null,
   "id": "bd60a504-3bff-459e-ad31-fe38c0264c83",
   "metadata": {},
   "outputs": [],
   "source": []
  }
 ],
 "metadata": {
  "kernelspec": {
   "display_name": "Python [conda env:base] *",
   "language": "python",
   "name": "conda-base-py"
  },
  "language_info": {
   "codemirror_mode": {
    "name": "ipython",
    "version": 3
   },
   "file_extension": ".py",
   "mimetype": "text/x-python",
   "name": "python",
   "nbconvert_exporter": "python",
   "pygments_lexer": "ipython3",
   "version": "3.12.7"
  }
 },
 "nbformat": 4,
 "nbformat_minor": 5
}

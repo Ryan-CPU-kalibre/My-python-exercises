{
 "cells": [
  {
   "cell_type": "code",
   "execution_count": 1,
   "id": "b37f385b-b6ba-4c78-957a-92889fa39f46",
   "metadata": {},
   "outputs": [],
   "source": [
    "#Notebook para pruebas3 Ryan Hernandez"
   ]
  },
  {
   "cell_type": "code",
   "execution_count": 2,
   "id": "0e570825-5593-4a1b-9972-f9f970088a63",
   "metadata": {},
   "outputs": [],
   "source": [
    "#1"
   ]
  },
  {
   "cell_type": "code",
   "execution_count": 8,
   "id": "97d9656e-23a8-4211-ab39-953ffc539ee0",
   "metadata": {},
   "outputs": [
    {
     "name": "stdout",
     "output_type": "stream",
     "text": [
      "2\n"
     ]
    }
   ],
   "source": [
    "string = \"ABCDCDC\"\n",
    "sub_string = \"CDC\"\n",
    "\n",
    "l = list(string)\n",
    "\n",
    "temp = []\n",
    "\n",
    "start = 0\n",
    "end = len(sub_string)\n",
    "\n",
    "segment = string[start:end]\n",
    "\n",
    "\n",
    "for i in string:\n",
    "    seg = string[start:end]\n",
    "    start += 1\n",
    "    end +=1\n",
    "    temp.append(seg)\n",
    "\n",
    "counter = 0\n",
    "for j in temp:\n",
    "    if j == sub_string:\n",
    "        counter +=1\n",
    "print(counter)\n",
    "        "
   ]
  },
  {
   "cell_type": "code",
   "execution_count": 1,
   "id": "959a55cf-d6b0-45ce-a1dd-b9c7d883246b",
   "metadata": {},
   "outputs": [],
   "source": [
    "#2"
   ]
  },
  {
   "cell_type": "code",
   "execution_count": null,
   "id": "8dc686d7-e5f3-4e71-a4bf-6184d89b5e46",
   "metadata": {},
   "outputs": [],
   "source": [
    "#Rangoli \n",
    "\n",
    "import string\n",
    "\n",
    "def print_rangoli(size):\n",
    "  \n",
    "    alpha = string.ascii_lowercase  # Obtenemos las letras del alfabeto en minúsculas\n",
    "\n",
    "    # Lista para guardar cada línea del rangoli\n",
    "    lines = []\n",
    "\n",
    "    # Generamos la mitad superior (incluye la línea del medio)\n",
    "    for i in range(size):\n",
    "        # Creamos la parte izquierda del patrón (descendente)\n",
    "        left = alpha[size-1:i:-1]\n",
    "        \n",
    "        # Creamos la parte derecha del patrón (ascendente)\n",
    "        right = alpha[i:size]\n",
    "        \n",
    "        # Unimos ambas partes con guiones\n",
    "        pattern = '-'.join(left + right)\n",
    "        \n",
    "        # Centramos el patrón en el ancho total usando guiones como relleno\n",
    "        line = pattern.center(4*size - 3, '-')\n",
    "        \n",
    "        # Añadimos la línea a la lista\n",
    "        lines.append(line)\n",
    "\n",
    "    # Primero las invertimos para formar la parte superior\n",
    "    # Luego añadimos desde la segunda línea hacia abajo para formar la parte inferior\n",
    "    print('\\n'.join(lines[::-1] + lines[1:]))\n"
   ]
  },
  {
   "cell_type": "code",
   "execution_count": 3,
   "id": "9ab78e23-5e51-498b-bb68-866e16f088bb",
   "metadata": {},
   "outputs": [],
   "source": [
    "#3 "
   ]
  },
  {
   "cell_type": "code",
   "execution_count": 19,
   "id": "9975d361-45fd-40e4-8253-ce7c220ccd02",
   "metadata": {},
   "outputs": [
    {
     "name": "stdout",
     "output_type": "stream",
     "text": [
      "------------------.|.------------------\n",
      "---------------.|..|..|.---------------\n",
      "------------.|..|..|..|..|.------------\n",
      "---------.|..|..|..|..|..|..|.---------\n",
      "------.|..|..|..|..|..|..|..|..|.------\n",
      "---.|..|..|..|..|..|..|..|..|..|..|.---\n",
      "----------------Welcome----------------\n",
      "---.|..|..|..|..|..|..|..|..|..|..|.---\n",
      "------.|..|..|..|..|..|..|..|..|.------\n",
      "---------.|..|..|..|..|..|..|.---------\n",
      "------------.|..|..|..|..|.------------\n",
      "---------------.|..|..|.---------------\n",
      "------------------.|.------------------\n"
     ]
    }
   ],
   "source": [
    "# Door mat\n",
    "\n",
    "N = 13\n",
    "\n",
    "M = N * 3\n",
    "\n",
    "for i in range(1, N, 2):  # 1, 3, 5... Se excluye N\n",
    "    print(('.|.' * i).center(M, '-'))  #.center toma 2 parametros Tamano y se puede usar un simbolo como relleno por defecto es un espacio\n",
    "\n",
    "print(\"Welcome\".center(M, \"-\"))\n",
    "\n",
    "for i in range(N -2, 0, -2):  # 5, 3, 1... Se excluye N \n",
    "    print(('.|.' * i).center(M, '-')) \n"
   ]
  },
  {
   "cell_type": "code",
   "execution_count": 20,
   "id": "5d6da852-6fcd-4379-952c-7b35f9147e93",
   "metadata": {},
   "outputs": [],
   "source": [
    "#4"
   ]
  },
  {
   "cell_type": "code",
   "execution_count": 1,
   "id": "f17c40cd-f41c-47d2-8e90-da6fd49e020d",
   "metadata": {
    "scrolled": true
   },
   "outputs": [
    {
     "name": "stdout",
     "output_type": "stream",
     "text": [
      "LÃ­nea 1: Esta es una lÃ­nea de texto.\n",
      "LÃ­nea 2: AquÃ­ hay otra lÃ­nea mÃ¡s.\n",
      "LÃ­nea 3: Python es genial para procesar archivos.\n",
      "LÃ­nea 4: Puedes leer, escribir y modificar contenido fÃ¡cilmente.\n",
      "LÃ­nea 5: Â¡Sigue practicando!\n",
      "Sigo practicando aunSigo practicando aunSigo practicando aun\n",
      "\n",
      "LÃ­nea 1: Esta es una lÃ­nea de texto.\n",
      "LÃ­nea 2: AquÃ­ hay otra lÃ­nea mÃ¡s.\n",
      "LÃ­nea 3: Python es genial para procesar archivos.\n",
      "LÃ­nea 4: Puedes leer, escribir y modificar contenido fÃ¡cilmente.\n",
      "LÃ­nea 5: Â¡Sigue practicando!\n",
      "Sigo practicando aunSigo practicando aunSigo practicando aun\n",
      "LÃ­nea 1: Esta es una lÃ­nea de texto.\n",
      "\n",
      "LÃ­nea 2: AquÃ­ hay otra lÃ­nea mÃ¡s.\n",
      "\n",
      "LÃ­nea 3: Python es genial para procesar archivos.\n",
      "\n",
      "LÃ­nea 4: Puedes leer, escribir y modificar contenido fÃ¡cilmente.\n",
      "\n",
      "LÃ­nea 5: Â¡Sigue practicando!\n",
      "\n",
      "Sigo practicando aunSigo practicando aunSigo practicando aun\n"
     ]
    }
   ],
   "source": [
    "#File Handling\n",
    "\n",
    "file = open(r\"C:\\Users\\ryanh\\Downloads\\archivo_prueba.txt\") #Abre archivo\n",
    "print(file.read()) # Lee archivo\n",
    "print(file.readline()) #lee una linea\n",
    "file.close() #cierra el archivo cuando no usamos with\n",
    "\n",
    "\n",
    "with open(r\"C:\\Users\\ryanh\\Downloads\\archivo_prueba.txt\") as file2:   #Otra forma de abrirlo sin preocuparce por cerralo \n",
    "    print(file2.read()) # Lee archivo, debe estar identado\n",
    "\n",
    "\n",
    "\n",
    "\n",
    "#Agregar lineas\n",
    "#with open(r\"C:\\Users\\ryanh\\Downloads\\archivo_prueba.txt\", \"a\") as file3:\n",
    "    #file3.write(\"Sigo practicando aun\")\n",
    "\n",
    "with open(r\"C:\\Users\\ryanh\\Downloads\\archivo_prueba.txt\") as file:\n",
    "    for l in file:\n",
    "        print(l)"
   ]
  },
  {
   "cell_type": "code",
   "execution_count": 17,
   "id": "8acaf28b-ecfb-458e-9f29-6c6e5b777e42",
   "metadata": {},
   "outputs": [
    {
     "name": "stdout",
     "output_type": "stream",
     "text": [
      "286\n",
      "None\n"
     ]
    }
   ],
   "source": [
    "#File handling2,\n",
    "#Integramos en funciones\n",
    "\n",
    "# Función para leer el archivo txt\n",
    "def read_file():\n",
    "    try:\n",
    "        with open(r\"C:\\Users\\ryanh\\Downloads\\archivo_prueba.txt\", \"r\") as file:\n",
    "            content = file.read()\n",
    "    except FileNotFoundError:\n",
    "        print(\"Archivo no encontrado\")\n",
    "        content = None # Esto para retornar none en caso de que el file no exista\n",
    "    return content\n",
    "\n",
    "# Contar líneas\n",
    "def count_lines(content):\n",
    "    if content is not None:\n",
    "        lines = content.split(\"\\n\")\n",
    "        print(len(lines))\n",
    "    else:\n",
    "        print(\"No se puede contar líneas, el contenido es None\")\n",
    "\n",
    "# Contar palabras\n",
    "def count_words(content):\n",
    "    if content is not None:\n",
    "        palabras = content.split()\n",
    "        print(len(palabras))\n",
    "    else:\n",
    "        print(\"No se puede contar palabras, el contenido es None\")\n",
    "\n",
    "content = read_file()\n",
    "count_lines(content)\n",
    "count_words(content)"
   ]
  },
  {
   "cell_type": "code",
   "execution_count": null,
   "id": "2f0ed5be-2621-4e00-9598-e957a3c8dc4e",
   "metadata": {},
   "outputs": [],
   "source": [
    "#Siguiente #5"
   ]
  },
  {
   "cell_type": "code",
   "execution_count": 24,
   "id": "71a71e10-f241-4014-bf20-0aef41ce3a30",
   "metadata": {},
   "outputs": [
    {
     "data": {
      "text/plain": [
       "24"
      ]
     },
     "execution_count": 24,
     "metadata": {},
     "output_type": "execute_result"
    }
   ],
   "source": [
    "#Facrotial sin recursividad\n",
    "\n",
    "#sin recursividad\n",
    "def factorial_normal(n):\n",
    "    r = 1\n",
    "    i = 2\n",
    "    while i <= n:\n",
    "        r *= i\n",
    "        i += 1\n",
    "    return r\n",
    "    \n",
    "factorial_normal(4) # 4 * 3 * 2 * 1 =  24\n"
   ]
  },
  {
   "cell_type": "code",
   "execution_count": 23,
   "id": "2e014559-f46e-4e42-bd8b-910a7c207439",
   "metadata": {},
   "outputs": [
    {
     "data": {
      "text/plain": [
       "120"
      ]
     },
     "execution_count": 23,
     "metadata": {},
     "output_type": "execute_result"
    }
   ],
   "source": [
    "#Recursivo\n",
    "def factorial_recursivo(n):\n",
    "    if n == 1:\n",
    "        return 1\n",
    "    else:\n",
    "        return n * factorial_recursivo(n-1)\n",
    "\n",
    "factorial_recursivo(5) # 120"
   ]
  },
  {
   "cell_type": "code",
   "execution_count": 25,
   "id": "591eebc4-cb92-40be-b2d5-3c7ab1f02953",
   "metadata": {},
   "outputs": [
    {
     "data": {
      "text/plain": [
       "13"
      ]
     },
     "execution_count": 25,
     "metadata": {},
     "output_type": "execute_result"
    }
   ],
   "source": [
    "#Fibonacci\n",
    "def fibonacci_recursivo(n):\n",
    "    if n == 0:\n",
    "        return 0\n",
    "    elif n == 1:\n",
    "        return 1\n",
    "    else:\n",
    "        return fibonacci_recursivo(n-1) + fibonacci_recursivo(n-2)\n",
    "\n",
    "fibonacci_recursivo(7) #0, 1, 1, 2, 3, 5, 8, 13  Siete incrementos"
   ]
  },
  {
   "cell_type": "code",
   "execution_count": 16,
   "id": "5de2d370-36d7-4ca2-b190-df3d8d1b1ee5",
   "metadata": {},
   "outputs": [
    {
     "name": "stdout",
     "output_type": "stream",
     "text": [
      "3\n",
      "[[5, 3], [3, 1], [4, 2]]\n"
     ]
    }
   ],
   "source": [
    "#6 \n",
    "# Función que cuenta los pares con una diferencia exacta de k\n",
    "def count_pairs_with_difference(k, arr):\n",
    "    # Convertimos la lista en un conjunto para hacer búsquedas más rápidas (O(1))\n",
    "    values = set(arr)\n",
    "    \n",
    "    # Inicializamos el contador de pares válidos\n",
    "    count = 0\n",
    "\n",
    "    # Recorremos cada número del arreglo original\n",
    "    for num in arr:\n",
    "        # Si existe otro número en el conjunto que sea igual a num + k,\n",
    "        # entonces hay una pareja válida (num, num + k)\n",
    "        if num + k in values:\n",
    "            count += 1\n",
    "\n",
    "    # Devolvemos el total de pares encontrados\n",
    "    return count\n",
    "\n",
    "# Lista de enteros\n",
    "arr = [1, 5, 3, 4, 2]\n",
    "\n",
    "# Valor de diferencia buscada\n",
    "k = 2\n",
    "\n",
    "# Llamamos a la función e imprimimos el resultado\n",
    "print(f\"There are {count_pairs_with_difference(k, arr)} pairs of integers in the set with a difference of {k}.\")\n"
   ]
  },
  {
   "cell_type": "code",
   "execution_count": 20,
   "id": "57891f7c-b12f-4800-836b-9e25f1f4b325",
   "metadata": {},
   "outputs": [
    {
     "name": "stdout",
     "output_type": "stream",
     "text": [
      "2\n"
     ]
    }
   ],
   "source": [
    "#7 operador XOR ^\n",
    "#trabaja sobre bits\n",
    "#En este contexto devuelve el numero unico en el array\n",
    "result = 0\n",
    "a = [0, 0 ,1, 2, 1]\n",
    "for i in a:\n",
    "    result ^= i\n",
    "\n",
    "print(result)"
   ]
  },
  {
   "cell_type": "code",
   "execution_count": 1,
   "id": "ab8832a4-a615-49d0-b921-bb3669510925",
   "metadata": {},
   "outputs": [
    {
     "name": "stdout",
     "output_type": "stream",
     "text": [
      "3\n"
     ]
    }
   ],
   "source": [
    "#8\n",
    "#Between two sets\n",
    "# Buscar cuantos numeros son divisibles entre 2 sets pero iniciando del minimo de A hasta el maximo de B \n",
    "\n",
    "def getTotalX(a, b):\n",
    "    count = 0\n",
    "\n",
    "    # Paso 1: definir el rango de búsqueda\n",
    "    # Los posibles candidatos están entre el mayor de A y el menor de B\n",
    "    start = max(a)\n",
    "    end = min(b)\n",
    "\n",
    "    # Paso 2: iterar sobre cada número en ese rango\n",
    "    for x in range(start, end + 1):\n",
    "\n",
    "        # Paso 3: verificar que x sea divisible por todos los elementos de A\n",
    "        is_factor_of_all_a = all(x % ai == 0 for ai in a)\n",
    "\n",
    "        # Paso 4: verificar que x divida a todos los elementos de B\n",
    "        is_factor_of_all_b = all(bi % x == 0 for bi in b)\n",
    "\n",
    "        # Paso 5: si cumple ambas condiciones, contarlo\n",
    "        if is_factor_of_all_a and is_factor_of_all_b:\n",
    "            count += 1\n",
    "\n",
    "    # Paso 6: devolver el total encontrado\n",
    "    return count\n",
    "a = [2,4]\n",
    "b= [16, 32, 96]\n",
    "\n",
    "print(getTotalX(a, b))"
   ]
  },
  {
   "cell_type": "code",
   "execution_count": 12,
   "id": "1215cb9f-f79c-4ab8-aa69-18a50f1ecd80",
   "metadata": {},
   "outputs": [
    {
     "name": "stdout",
     "output_type": "stream",
     "text": [
      "20\n",
      "0\n"
     ]
    }
   ],
   "source": [
    "#9\n",
    "# Breaking records\n",
    "#Cuantas veces se supero o bajo el record de un juego\n",
    "\n",
    "\n",
    "scores = [3, 4, 21, 36, 10, 28, 35, 5, 24, 42]\n",
    "\n",
    "current_score = scores[0]\n",
    "\n",
    "for i in scores:\n",
    "    if i > current_score:\n",
    "        current_score = i\n",
    "        high += 1\n",
    "    elif current_score < i:\n",
    "        low +=1\n",
    "\n",
    "print(high)\n",
    "print(low)\n"
   ]
  },
  {
   "cell_type": "code",
   "execution_count": 7,
   "id": "f558de6d-d6be-4178-bbb9-08c3570303b7",
   "metadata": {},
   "outputs": [
    {
     "name": "stdout",
     "output_type": "stream",
     "text": [
      "3\n"
     ]
    }
   ],
   "source": [
    "#10\n",
    "# eFFICIENT JANITOR\n",
    "#TEnemos una lista de punto flotante debemos tomar sus elementos sin repetir y sumarlos sin dan menos de 3 se pueden llevar ambas bolsas si no una a la vez\n",
    "#Utilizamos 2 punteros inicio y fin para ir comparando\n",
    "#Algoritmo greedy\n",
    "\n",
    "w = [1.01, 1.991, 1.32, 1.4]\n",
    "we = sorted(w)  # Ordena los pesos de menor a mayor\n",
    "i = 0          # Puntero izquierdo\n",
    "j = len(we) - 1 # Puntero derecho\n",
    "trips = 0\n",
    "\n",
    "while i <= j:\n",
    "    if w[i] + w[j] <= 3.0:\n",
    "        # Puedes emparejar la más ligera con la más pesada\n",
    "        i += 1\n",
    "        j -= 1\n",
    "    else:\n",
    "        # La más pesada viaja sola\n",
    "        j -= 1\n",
    "    trips += 1\n",
    "\n",
    "print(trips)"
   ]
  },
  {
   "cell_type": "code",
   "execution_count": 7,
   "id": "92c0710b-2392-4243-bf67-535f3b163413",
   "metadata": {},
   "outputs": [
    {
     "name": "stdout",
     "output_type": "stream",
     "text": [
      "56.0\n"
     ]
    }
   ],
   "source": [
    "#11\n",
    "#Encontrar el average de scores de estudiantes en un diccionario\n",
    "\n",
    "student_marks = {\"ryan\": [52,56,60], \"maria\": [90,60,30]}\n",
    "prueba = \"ryan\"\n",
    "\n",
    "for i in student_marks.keys(): # Iteramos solo por los keys\n",
    "    if i == prueba:\n",
    "        l = sum(student_marks[i]) # esto devuelve una lista [52, 56, 60] y suma los elementos \n",
    "        \n",
    "        print(l / len(student_marks[i])) \n",
    "        \n",
    "    "
   ]
  },
  {
   "cell_type": "code",
   "execution_count": 29,
   "id": "a97a9f40-4f8d-4763-9536-184ac8b16199",
   "metadata": {},
   "outputs": [
    {
     "name": "stdout",
     "output_type": "stream",
     "text": [
      "    1     1     1     1\n",
      "    2     2     2    10\n",
      "    3     3     3    11\n",
      "    4     4     4   100\n",
      "    5     5     5   101\n",
      "    6     6     6   110\n",
      "    7     7     7   111\n",
      "    8    10     8  1000\n",
      "    9    11     9  1001\n",
      "   10    12     A  1010\n",
      "   11    13     B  1011\n",
      "   12    14     C  1100\n",
      "   13    15     D  1101\n",
      "   14    16     E  1110\n",
      "   15    17     F  1111\n",
      "   16    20    10 10000\n",
      "   17    21    11 10001\n",
      "None\n"
     ]
    }
   ],
   "source": [
    "#12\n",
    "#Tomar desde 0 hasta el numero N y imprimir en formato de filas  cada uno de los numeros en Decimal Octal, Hexadecimal, Binary\n",
    "#Las letras de hexadecimal deberan estar en mayuscula\n",
    "# Valor decimal de entrada (puede ser fijo o aleatorio)\n",
    "#El ancho de las columnas debera ser del tamano del ultimo numero en binario ejemplo: 17 = 10001 ancho = 4\n",
    "\n",
    "def print_formatted(number):\n",
    "    \n",
    "    # Calcular el ancho máximo de las columnas\n",
    "    width = len(bin(number)[2:])  # bin(number) devuelve algo como '0b10001', así que quitamos '0b' con [2:]\n",
    "\n",
    "  # Iterar desde 1 hasta el número dado (inclusive)\n",
    "    for num in range(1, number + 1):\n",
    "        # Convertir cada número a los diferentes formatos, sin los prefijos ('0o', '0x', '0b')\n",
    "        dec = str(num).rjust(width)                 # Decimal alineado a la derecha\n",
    "        octal = oct(num)[2:].rjust(width)           # Octal sin '0o', alineado\n",
    "        hexa = hex(num)[2:].upper().rjust(width)    # Hexadecimal sin '0x', en mayúsculas, alineado\n",
    "        binari = bin(num)[2:].rjust(width)          # Binario sin '0b', alineado\n",
    "\n",
    "        # Imprimir los cuatro formatos en una línea, separados por espacios\n",
    "        print(f\"{dec} {octal} {hexa} {binari}\")\n",
    "N = 17\n",
    "print(print_formatted(N))\n"
   ]
  },
  {
   "cell_type": "code",
   "execution_count": 3,
   "id": "daccfca7-966c-402f-a6a3-4808e3f1aeca",
   "metadata": {},
   "outputs": [
    {
     "name": "stdout",
     "output_type": "stream",
     "text": [
      "WEDNESDAY\n"
     ]
    }
   ],
   "source": [
    "#13\n",
    "#Dado una fecha en formato MM DD YYYY devolver el dia en mayusculas\n",
    "import calendar\n",
    "year, month, day = 2015, 8, 5\n",
    "\n",
    "day_in_num = calendar.weekday(year, month, day)\n",
    "\n",
    "day_to_show = calendar.day_name[day_in_num].upper()\n",
    "\n",
    "print(day_to_show)"
   ]
  },
  {
   "cell_type": "code",
   "execution_count": null,
   "id": "f906fa35-97e9-4b44-b79f-49d0caebbcb8",
   "metadata": {},
   "outputs": [],
   "source": []
  }
 ],
 "metadata": {
  "kernelspec": {
   "display_name": "Python [conda env:base] *",
   "language": "python",
   "name": "conda-base-py"
  },
  "language_info": {
   "codemirror_mode": {
    "name": "ipython",
    "version": 3
   },
   "file_extension": ".py",
   "mimetype": "text/x-python",
   "name": "python",
   "nbconvert_exporter": "python",
   "pygments_lexer": "ipython3",
   "version": "3.12.7"
  }
 },
 "nbformat": 4,
 "nbformat_minor": 5
}
